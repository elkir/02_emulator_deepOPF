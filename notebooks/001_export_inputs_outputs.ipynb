{
 "cells": [
  {
   "cell_type": "markdown",
   "metadata": {},
   "source": [
    "## Develop a function to extract all the input and output values for training "
   ]
  },
  {
   "cell_type": "code",
   "execution_count": null,
   "metadata": {},
   "outputs": [],
   "source": [
    "import pandas as pd\n",
    "import numpy as np\n",
    "import pypsa\n",
    "\n",
    "import matplotlib.pyplot as plt\n",
    "\n",
    "from pathlib import Path\n",
    "\n",
    "## Custom functions\n",
    "%load_ext autoreload\n",
    "%autoreload 2\n",
    "from helper_functions import *\n",
    "%matplotlib inline\n",
    "plt.rcParams['figure.figsize'] = [12, 6]"
   ]
  },
  {
   "cell_type": "code",
   "execution_count": null,
   "metadata": {},
   "outputs": [],
   "source": [
    "year = \"2013\"\n",
    "network_name = \"elec_s_37_ec_lcopt_Co2L.nc\"\n",
    "\n",
    "dir_root = Path(\"../\") # go to root of git repo\n",
    "dir_results = dir_root / \"results\" /\"networks\"/test_period\n",
    "dir_unsolved = dir_root /\"networks\"/test_period\n",
    "\n",
    "filename_max_base = dir_root / \"networks\"/ \"2014-01-01\" /\"base.nc\"\n",
    "filename_solved = dir_results / network_name\n",
    "filename_unsolved = dir_unsolved / network_name"
   ]
  },
  {
   "cell_type": "code",
   "execution_count": null,
   "metadata": {},
   "outputs": [],
   "source": [
    "n_solved = pypsa.Network(filename_solved.as_posix())\n",
    "n_unsolved = pypsa.Network(filename_unsolved.as_posix())\n",
    "n_base = pypsa.Network(filename_max_base.as_posix())"
   ]
  },
  {
   "cell_type": "markdown",
   "metadata": {},
   "source": [
    "## Extract all time dependent variables"
   ]
  },
  {
   "cell_type": "code",
   "execution_count": null,
   "metadata": {},
   "outputs": [],
   "source": [
    "## "
   ]
  },
  {
   "cell_type": "markdown",
   "metadata": {},
   "source": [
    "## Check the inputs exist in unsolved network too"
   ]
  },
  {
   "cell_type": "code",
   "execution_count": null,
   "metadata": {},
   "outputs": [],
   "source": [
    "# inputs_t(n)\n",
    "# inputs_t(n_unsolved)\n",
    "\n",
    "# compare all values"
   ]
  },
  {
   "cell_type": "markdown",
   "metadata": {},
   "source": [
    "## Test how many independent time dependent values"
   ]
  },
  {
   "cell_type": "code",
   "execution_count": null,
   "metadata": {},
   "outputs": [],
   "source": [
    "## array check number of linearly independent variables"
   ]
  }
 ],
 "metadata": {
  "language_info": {
   "name": "python"
  },
  "orig_nbformat": 4
 },
 "nbformat": 4,
 "nbformat_minor": 2
}
